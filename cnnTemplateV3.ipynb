{
 "cells": [
  {
   "cell_type": "markdown",
   "metadata": {},
   "source": [
    "# Ethno\n",
    "\n",
    "This notebook is a global template for loading and preprocess data.\n",
    "\n",
    "## What is the SVM algorithm?\n",
    "\n",
    " It is a supervised learning algorithm designed to solve discrimination and regression problems.\n",
    " \n",
    " It is a very good image classification algorithm.\n",
    " \n",
    " ![enter image description here](https://editor.analyticsvidhya.com/uploads/61706svm3.png)\n",
    " \n",
    " ## Summary\n",
    " \n",
    " 1. [Data preparation](#prepaData)\n",
    " 2. [Learning of model](#model)\n",
    " 3. [Displaying metrics](#metric)\n",
    " 4. [Conclusion](#conclusion)\n",
    "\n",
    "### 1. Data preparation <a id=\"prepaData\"></a>\n",
    " \n",
    " - To start, we import the necessary libraries."
   ]
  },
  {
   "cell_type": "markdown",
   "metadata": {},
   "source": [
    " #### Datasets : Download the CUB datasets at this address https://deepai.org/dataset/cub-200-2011 then rename it to 'data'"
   ]
  },
  {
   "cell_type": "code",
   "execution_count": 98,
   "metadata": {
    "_cell_guid": "b1076dfc-b9ad-4769-8c92-a6c4dae69d19",
    "_uuid": "8f2839f25d086af736a60e9eeb907d3b93b6e0e5"
   },
   "outputs": [],
   "source": [
    "# This Python 3 environment comes with many helpful analytics libraries installed\n",
    "# It is defined by the kaggle/python Docker image: https://github.com/kaggle/docker-python\n",
    "# For example, here's several helpful packages to load\n",
    "\n",
    "import numpy as np # linear algebra\n",
    "import pandas as pd # data processing, CSV file I/O (e.g. pd.read_csv)\n",
    "\n",
    "# Input data files are available in the read-only \"../input/\" directory\n",
    "# For example, running this (by clicking run or pressing Shift+Enter) will list all files under the input directory\n",
    "\n",
    "import os\n",
    "import cv2\n",
    "import time\n",
    "import shutil\n",
    "import pickle\n",
    "import pathlib\n",
    "import itertools\n",
    "import pandas as pd\n",
    "import tensorflow as tf\n",
    "import matplotlib.pyplot as plt\n",
    "from tensorflow.keras.layers import Dense, Conv2D, Input, Flatten, Dropout, MaxPooling2D\n",
    "from sklearn.metrics import classification_report, confusion_matrix\n",
    "from sklearn.model_selection import train_test_split\n",
    "from sklearn.tree import DecisionTreeClassifier\n",
    "from sklearn.datasets import load_breast_cancer\n",
    "from sklearn.neighbors import KNeighborsClassifier\n",
    "from sklearn.neighbors import KNeighborsRegressor\n",
    "from sklearn.metrics import plot_confusion_matrix\n",
    "from tensorflow.keras.models import Model\n",
    "from tensorflow.keras.callbacks import EarlyStopping\n",
    "\n",
    "\n",
    "# You can write up to 20GB to the current directory (/kaggle/working/) that gets preserved as output when you create a version using \"Save & Run All\" \n",
    "# You can also write temporary files to /kaggle/temp/, but they won't be saved outside of the current session"
   ]
  },
  {
   "cell_type": "markdown",
   "metadata": {},
   "source": [
    "## Data set creation"
   ]
  },
  {
   "cell_type": "code",
   "execution_count": 99,
   "metadata": {},
   "outputs": [],
   "source": [
    "ROOT_DIR = './data'\n"
   ]
  },
  {
   "cell_type": "code",
   "execution_count": 103,
   "metadata": {},
   "outputs": [],
   "source": [
    "orig_images_folder = 'images'\n",
    "if os.path.exists('./data/datasets'):\n",
    "  shutil.rmtree('./data/datasets')\n",
    "else:\n",
    "  new_images_folder = 'datasets'\n",
    "  images_classes = pd.read_csv(\"./data/classes.txt\", nrows=9)\n",
    "\n",
    "  image_fnames = pd.read_csv(filepath_or_buffer=os.path.join(ROOT_DIR, 'images.txt'),\n",
    "                             header=None,\n",
    "                             delimiter=' ',\n",
    "                             nrows=543,\n",
    "                             names=['Img ID', 'file path'])\n",
    "\n",
    "  image_fnames['is training image?'] = pd.read_csv(filepath_or_buffer=os.path.join(ROOT_DIR, 'train_test_split.txt'),\n",
    "                                                   header=None, delimiter=' ', nrows=543,\n",
    "                                                   names=['Img ID', 'is training image?'])['is training image?']\n",
    "  image_fnames.head()\n",
    "  print(image_fnames)"
   ]
  },
  {
   "cell_type": "code",
   "execution_count": 104,
   "metadata": {},
   "outputs": [],
   "source": [
    "if os.path.exists('./data/datasetsSelect'):\n",
    "    shutil.rmtree('./data/datasetsSelect')\n",
    "\n",
    "data_dir = os.path.join(ROOT_DIR, orig_images_folder)\n",
    "new_data_dir = os.path.join(ROOT_DIR, new_images_folder)\n",
    "os.makedirs(os.path.join(new_data_dir, 'train'), exist_ok=True)\n",
    "os.makedirs(os.path.join(new_data_dir, 'test'), exist_ok=True)\n",
    "os.makedirs(os.path.join(new_data_dir, 'val'), exist_ok=True)\n",
    "\n",
    "for i_image, image_fname in enumerate(image_fnames['file path']):\n",
    "    if image_fnames['is training image?'].iloc[i_image]:\n",
    "        new_dir = os.path.join(new_data_dir, 'train',\n",
    "                               image_fname.split('/')[0])\n",
    "        os.makedirs(new_dir, exist_ok=True)\n",
    "        shutil.copy(src=os.path.join(data_dir, image_fname),\n",
    "                    dst=os.path.join(new_dir, image_fname.split('/')[1]))\n",
    "    else:\n",
    "        new_dir = os.path.join(new_data_dir, 'test', image_fname.split('/')[0])\n",
    "        os.makedirs(new_dir, exist_ok=True)\n",
    "        shutil.copy(src=os.path.join(data_dir, image_fname),\n",
    "                    dst=os.path.join(new_dir, image_fname.split('/')[1]))\n",
    "        \n",
    "        new_dir = os.path.join(new_data_dir, 'val', image_fname.split('/')[0])\n",
    "        os.makedirs(new_dir, exist_ok=True)\n",
    "        shutil.copy(src=os.path.join(data_dir, image_fname),\n",
    "                    dst=os.path.join(new_dir, image_fname.split('/')[1]))\n"
   ]
  },
  {
   "cell_type": "code",
   "execution_count": 102,
   "metadata": {},
   "outputs": [
    {
     "ename": "Error",
     "evalue": "Destination path './data/datasetsSelect/test/001.Black_footed_Albatross/001.Black_footed_Albatross' already exists",
     "output_type": "error",
     "traceback": [
      "\u001b[0;31m---------------------------------------------------------------------------\u001b[0m",
      "\u001b[0;31mError\u001b[0m                                     Traceback (most recent call last)",
      "\u001b[0;32m<ipython-input-102-710ccf363ed8>\u001b[0m in \u001b[0;36m<module>\u001b[0;34m\u001b[0m\n\u001b[1;32m     99\u001b[0m \u001b[0;34m\u001b[0m\u001b[0m\n\u001b[1;32m    100\u001b[0m \u001b[0;34m\u001b[0m\u001b[0m\n\u001b[0;32m--> 101\u001b[0;31m \u001b[0mshutil\u001b[0m\u001b[0;34m.\u001b[0m\u001b[0mmove\u001b[0m\u001b[0;34m(\u001b[0m\u001b[0msrc_test_footed_albatross\u001b[0m\u001b[0;34m,\u001b[0m \u001b[0mdest_test_footed_albatross\u001b[0m\u001b[0;34m)\u001b[0m\u001b[0;34m\u001b[0m\u001b[0;34m\u001b[0m\u001b[0m\n\u001b[0m\u001b[1;32m    102\u001b[0m \u001b[0mshutil\u001b[0m\u001b[0;34m.\u001b[0m\u001b[0mmove\u001b[0m\u001b[0;34m(\u001b[0m\u001b[0msrc_train_footed_albatross\u001b[0m\u001b[0;34m,\u001b[0m \u001b[0mdest_train_footed_albatross\u001b[0m\u001b[0;34m)\u001b[0m\u001b[0;34m\u001b[0m\u001b[0;34m\u001b[0m\u001b[0m\n\u001b[1;32m    103\u001b[0m \u001b[0mshutil\u001b[0m\u001b[0;34m.\u001b[0m\u001b[0mmove\u001b[0m\u001b[0;34m(\u001b[0m\u001b[0msrc_val_footed_albatross\u001b[0m\u001b[0;34m,\u001b[0m \u001b[0mdest_val_footed_albatross\u001b[0m\u001b[0;34m)\u001b[0m\u001b[0;34m\u001b[0m\u001b[0;34m\u001b[0m\u001b[0m\n",
      "\u001b[0;32m~/opt/anaconda3/lib/python3.8/shutil.py\u001b[0m in \u001b[0;36mmove\u001b[0;34m(src, dst, copy_function)\u001b[0m\n\u001b[1;32m    787\u001b[0m         \u001b[0mreal_dst\u001b[0m \u001b[0;34m=\u001b[0m \u001b[0mos\u001b[0m\u001b[0;34m.\u001b[0m\u001b[0mpath\u001b[0m\u001b[0;34m.\u001b[0m\u001b[0mjoin\u001b[0m\u001b[0;34m(\u001b[0m\u001b[0mdst\u001b[0m\u001b[0;34m,\u001b[0m \u001b[0m_basename\u001b[0m\u001b[0;34m(\u001b[0m\u001b[0msrc\u001b[0m\u001b[0;34m)\u001b[0m\u001b[0;34m)\u001b[0m\u001b[0;34m\u001b[0m\u001b[0;34m\u001b[0m\u001b[0m\n\u001b[1;32m    788\u001b[0m         \u001b[0;32mif\u001b[0m \u001b[0mos\u001b[0m\u001b[0;34m.\u001b[0m\u001b[0mpath\u001b[0m\u001b[0;34m.\u001b[0m\u001b[0mexists\u001b[0m\u001b[0;34m(\u001b[0m\u001b[0mreal_dst\u001b[0m\u001b[0;34m)\u001b[0m\u001b[0;34m:\u001b[0m\u001b[0;34m\u001b[0m\u001b[0;34m\u001b[0m\u001b[0m\n\u001b[0;32m--> 789\u001b[0;31m             \u001b[0;32mraise\u001b[0m \u001b[0mError\u001b[0m\u001b[0;34m(\u001b[0m\u001b[0;34m\"Destination path '%s' already exists\"\u001b[0m \u001b[0;34m%\u001b[0m \u001b[0mreal_dst\u001b[0m\u001b[0;34m)\u001b[0m\u001b[0;34m\u001b[0m\u001b[0;34m\u001b[0m\u001b[0m\n\u001b[0m\u001b[1;32m    790\u001b[0m     \u001b[0;32mtry\u001b[0m\u001b[0;34m:\u001b[0m\u001b[0;34m\u001b[0m\u001b[0;34m\u001b[0m\u001b[0m\n\u001b[1;32m    791\u001b[0m         \u001b[0mos\u001b[0m\u001b[0;34m.\u001b[0m\u001b[0mrename\u001b[0m\u001b[0;34m(\u001b[0m\u001b[0msrc\u001b[0m\u001b[0;34m,\u001b[0m \u001b[0mreal_dst\u001b[0m\u001b[0;34m)\u001b[0m\u001b[0;34m\u001b[0m\u001b[0;34m\u001b[0m\u001b[0m\n",
      "\u001b[0;31mError\u001b[0m: Destination path './data/datasetsSelect/test/001.Black_footed_Albatross/001.Black_footed_Albatross' already exists"
     ]
    }
   ],
   "source": [
    "src_test_footed_albatross = './data/datasets/test/001.Black_footed_Albatross'\n",
    "dest_test_footed_albatross = './data/datasetsSelect/test/001.Black_footed_Albatross'\n",
    "\n",
    "src_train_footed_albatross = './data/datasets/train/001.Black_footed_Albatross'\n",
    "dest_train_footed_albatross = './data/datasetsSelect/train/001.Black_footed_Albatross'\n",
    "\n",
    "src_val_footed_albatross = './data/datasets/val/001.Black_footed_Albatross'\n",
    "dest_val_footed_albatross = './data/datasetsSelect/val/001.Black_footed_Albatross'\n",
    "\n",
    "\n",
    "src_test_laysan_albatross = './data/datasets/test/002.Laysan_Albatross'\n",
    "dest_test_laysan_albatross = './data/datasetsSelect/test/002.Laysan_Albatross'\n",
    "\n",
    "src_val_laysan_albatross = './data/datasets/val/002.Laysan_Albatross'\n",
    "dest_val_laysan_albatross = './data/datasetsSelect/val/002.Laysan_Albatross'\n",
    "\n",
    "src_train_laysan_albatross = './data/datasets/train/002.Laysan_Albatross'\n",
    "dest_train_laysan_albatross = './data/datasetsSelect/train/002.Laysan_Albatross'\n",
    "\n",
    "\n",
    "src_test_sooty_albatross = './data/datasets/test/003.Sooty_Albatross'\n",
    "dest_test_sooty_albatross = './data/datasetsSelect/test/003.Sooty_Albatross'\n",
    "\n",
    "src_val_sooty_albatross = './data/datasets/val/003.Sooty_Albatross'\n",
    "dest_val_sooty_albatross = './data/datasetsSelect/val/003.Sooty_Albatross'\n",
    "\n",
    "src_train_sooty_albatross = './data/datasets/train/003.Sooty_Albatross'\n",
    "dest_train_sooty_albatross = './data/datasetsSelect/train/003.Sooty_Albatross'\n",
    "\n",
    "\n",
    "src_test_groove_billed_ani = './data/datasets/test/004.Groove_billed_Ani'\n",
    "dest_test_groove_billed_ani = './data/datasetsSelect/test/004.Groove_billed_Ani'\n",
    "\n",
    "src_val_groove_billed_ani = './data/datasets/val/004.Groove_billed_Ani'\n",
    "dest_val_groove_billed_ani = './data/datasetsSelect/val/004.Groove_billed_Ani'\n",
    "\n",
    "src_train_groove_billed_ani = './data/datasets/train/004.Groove_billed_Ani'\n",
    "dest_train_groove_billed_ani = './data/datasetsSelect/train/004.Groove_billed_Ani'\n",
    "\n",
    "\n",
    "src_test_crested_auklet = './data/datasets/test/005.Crested_Auklet'\n",
    "dest_test_crested_auklet = './data/datasetsSelect/test/005.Crested_Auklet'\n",
    "\n",
    "src_val_crested_auklet = './data/datasets/val/005.Crested_Auklet'\n",
    "dest_val_crested_auklet = './data/datasetsSelect/val/005.Crested_Auklet'\n",
    "\n",
    "src_train_crested_auklet = './data/datasets/train/005.Crested_Auklet'\n",
    "dest_train_crested_auklet = './data/datasetsSelect/train/005.Crested_Auklet'\n",
    "\n",
    "\n",
    "src_test_least_auklet = './data/datasets/test/006.Least_Auklet'\n",
    "dest_test_least_auklet = './data/datasetsSelect/test/006.Least_Auklet'\n",
    "\n",
    "src_val_least_auklet = './data/datasets/val/006.Least_Auklet'\n",
    "dest_val_least_auklet = './data/datasetsSelect/val/006.Least_Auklet'\n",
    "\n",
    "src_train_least_auklet = './data/datasets/train/006.Least_Auklet'\n",
    "dest_train_least_auklet = './data/datasetsSelect/train/006.Least_Auklet'\n",
    "\n",
    "\n",
    "src_test_parakeet_auklet = './data/datasets/test/007.Parakeet_Auklet'\n",
    "dest_test_parakeet_auklet = './data/datasetsSelect/test/007.Parakeet_Auklet'\n",
    "\n",
    "src_val_parakeet_auklet = './data/datasets/val/007.Parakeet_Auklet'\n",
    "dest_val_parakeet_auklet = './data/datasetsSelect/val/007.Parakeet_Auklet'\n",
    "\n",
    "src_train_parakeet_auklet = './data/datasets/train/007.Parakeet_Auklet'\n",
    "dest_train_parakeet_auklet = './data/datasetsSelect/train/007.Parakeet_Auklet'\n",
    "\n",
    "\n",
    "src_test_rhinoceros_auklet = './data/datasets/test/008.Rhinoceros_Auklet'\n",
    "dest_test_rhinoceros_auklet = './data/datasetsSelect/test/008.Rhinoceros_Auklet'\n",
    "\n",
    "src_val_rhinoceros_auklet = './data/datasets/val/008.Rhinoceros_Auklet'\n",
    "dest_val_rhinoceros_auklet = './data/datasetsSelect/val/008.Rhinoceros_Auklet'\n",
    "\n",
    "src_train_rhinoceros_auklet = './data/datasets/train/008.Rhinoceros_Auklet'\n",
    "dest_train_rhinoceros_auklet = './data/datasetsSelect/train/008.Rhinoceros_Auklet'\n",
    "\n",
    "\n",
    "src_test_brewer_blackbird = './data/datasets/test/009.Brewer_Blackbird'\n",
    "dest_test_brewer_blackbird = './data/datasetsSelect/test/009.Brewer_Blackbird'\n",
    "\n",
    "src_val_brewer_blackbird = './data/datasets/val/009.Brewer_Blackbird'\n",
    "dest_val_brewer_blackbird = './data/datasetsSelect/val/009.Brewer_Blackbird'\n",
    "\n",
    "src_train_brewer_blackbird = './data/datasets/train/009.Brewer_Blackbird'\n",
    "dest_train_brewer_blackbird = './data/datasetsSelect/train/009.Brewer_Blackbird'\n",
    "\n",
    "\n",
    "src_test_red_winged_blackbird = './data/datasets/test/010.Red_winged_Blackbird'\n",
    "dest_test_red_winged_blackbird = './data/datasetsSelect/test/010.Red_winged_Blackbird'\n",
    "\n",
    "src_val_red_winged_blackbird = './data/datasets/val/010.Red_winged_Blackbird'\n",
    "dest_val_red_winged_blackbird = './data/datasetsSelect/val/010.Red_winged_Blackbird'\n",
    "\n",
    "src_train_red_winged_blackbird = './data/datasets/train/010.Red_winged_Blackbird'\n",
    "dest_train_red_winged_blackbird = './data/datasetsSelect/train/010.Red_winged_Blackbird'\n",
    "\n",
    "\n",
    "shutil.move(src_test_footed_albatross, dest_test_footed_albatross)\n",
    "shutil.move(src_train_footed_albatross, dest_train_footed_albatross)\n",
    "shutil.move(src_val_footed_albatross, dest_val_footed_albatross)\n",
    "\n",
    "shutil.move(src_test_laysan_albatross, dest_test_laysan_albatross)\n",
    "shutil.move(src_train_laysan_albatross, dest_train_laysan_albatross)\n",
    "shutil.move(src_val_laysan_albatross, dest_val_laysan_albatross)\n",
    "\n",
    "shutil.move(src_test_sooty_albatross, dest_test_sooty_albatross)\n",
    "shutil.move(src_train_sooty_albatross, dest_train_sooty_albatross)\n",
    "shutil.move(src_val_sooty_albatross, dest_val_sooty_albatross)\n",
    "\n",
    "shutil.move(src_test_groove_billed_ani, dest_test_groove_billed_ani)\n",
    "shutil.move(src_train_groove_billed_ani, dest_train_groove_billed_ani)\n",
    "shutil.move(src_val_groove_billed_ani, dest_val_groove_billed_ani)\n",
    "\n",
    "shutil.move(src_test_crested_auklet, dest_test_crested_auklet)\n",
    "shutil.move(src_train_crested_auklet, dest_train_crested_auklet)\n",
    "shutil.move(src_val_crested_auklet, dest_val_crested_auklet)\n",
    "\n",
    "\n",
    "shutil.move(src_test_least_auklet, dest_test_least_auklet)\n",
    "shutil.move(src_train_least_auklet, dest_train_least_auklet)\n",
    "shutil.move(src_val_least_auklet, dest_val_least_auklet)\n",
    "\n",
    "shutil.move(src_val_parakeet_auklet, dest_val_parakeet_auklet)\n",
    "shutil.move(src_test_parakeet_auklet, dest_test_parakeet_auklet)\n",
    "shutil.move(src_train_parakeet_auklet, dest_train_parakeet_auklet)\n",
    "\n",
    "shutil.move(src_val_rhinoceros_auklet, dest_val_rhinoceros_auklet)\n",
    "shutil.move(src_test_rhinoceros_auklet, dest_test_rhinoceros_auklet)\n",
    "shutil.move(src_train_rhinoceros_auklet, dest_train_rhinoceros_auklet)\n",
    "\n",
    "\n",
    "shutil.move(src_val_brewer_blackbird, dest_val_brewer_blackbird)\n",
    "shutil.move(src_test_brewer_blackbird, dest_test_brewer_blackbird)\n",
    "shutil.move(src_train_brewer_blackbird, dest_train_brewer_blackbird)\n",
    "\n",
    "\n",
    "shutil.move(src_val_red_winged_blackbird, dest_val_red_winged_blackbird)\n",
    "shutil.move(src_test_red_winged_blackbird, dest_test_red_winged_blackbird)\n",
    "shutil.move(src_train_red_winged_blackbird, dest_train_red_winged_blackbird)\n",
    "\n",
    "\n",
    "shutil.rmtree('./data/datasets')\n",
    "\n",
    "print('prepare dataset structure done.')"
   ]
  },
  {
   "cell_type": "markdown",
   "metadata": {},
   "source": [
    " - We define all necessary variables."
   ]
  },
  {
   "cell_type": "code",
   "execution_count": null,
   "metadata": {},
   "outputs": [
    {
     "name": "stdout",
     "output_type": "stream",
     "text": [
      "['001.Black_footed_Albatross', '002.Laysan_Albatross', '003.Sooty_Albatross', '004.Groove_billed_Ani', '005.Crested_Auklet', '006.Least_Auklet', '007.Parakeet_Auklet', '008.Rhinoceros_Auklet', '009.Brewer_Blackbird', '010.Red_winged_Blackbird']\n"
     ]
    }
   ],
   "source": [
    "path = './data/datasetsSelect'\n",
    "train_path = './data/datasetsSelect/train'\n",
    "test_path = './data/datasetsSelect/test'\n",
    "val_path = './data/datasetsSelect/val'\n",
    "IMG_SIZE = 100\n",
    "scale = 1\n",
    "batch_size = 10\n",
    "nb_train_samples = 100\n",
    "nb_validation_samples = 100\n",
    "epochs = 10\n",
    "labels = ['001.Black_footed_Albatross',\n",
    "          '002.Laysan_Albatross',\n",
    "          '003.Sooty_Albatross',\n",
    "          '004.Groove_billed_Ani',\n",
    "          '005.Crested_Auklet',\n",
    "          '006.Least_Auklet',\n",
    "          '007.Parakeet_Auklet',\n",
    "          '008.Rhinoceros_Auklet',\n",
    "          '009.Brewer_Blackbird',\n",
    "          '010.Red_winged_Blackbird', ]\n",
    "print(labels)"
   ]
  },
  {
   "cell_type": "markdown",
   "metadata": {},
   "source": [
    "## Get trainning data"
   ]
  },
  {
   "cell_type": "code",
   "execution_count": null,
   "metadata": {},
   "outputs": [],
   "source": [
    "def get_training_data(data_dir, size):\n",
    "    data = list()\n",
    "    for label in labels:\n",
    "        path = os.path.join(data_dir, label)\n",
    "        class_num = labels.index(label)\n",
    "        for image in os.listdir(path):\n",
    "            if(image != \".DS_Store\"):\n",
    "                try:\n",
    "                    image_arr = cv2.imread(os.path.join(\n",
    "                        path, image), cv2.IMREAD_GRAYSCALE)\n",
    "                    resized_arr = cv2.resize(image_arr, (size, size))\n",
    "                    data.append([resized_arr, class_num])\n",
    "                except Exception as e:\n",
    "                    print(e)\n",
    "    return np.array(data, dtype=\"object\"),\n"
   ]
  },
  {
   "cell_type": "code",
   "execution_count": null,
   "metadata": {},
   "outputs": [
    {
     "name": "stdout",
     "output_type": "stream",
     "text": [
      "OpenCV(4.5.5) /Users/runner/work/opencv-python/opencv-python/opencv/modules/imgproc/src/resize.cpp:4052: error: (-215:Assertion failed) !ssize.empty() in function 'resize'\n",
      "\n",
      "OpenCV(4.5.5) /Users/runner/work/opencv-python/opencv-python/opencv/modules/imgproc/src/resize.cpp:4052: error: (-215:Assertion failed) !ssize.empty() in function 'resize'\n",
      "\n",
      "OpenCV(4.5.5) /Users/runner/work/opencv-python/opencv-python/opencv/modules/imgproc/src/resize.cpp:4052: error: (-215:Assertion failed) !ssize.empty() in function 'resize'\n",
      "\n",
      "OpenCV(4.5.5) /Users/runner/work/opencv-python/opencv-python/opencv/modules/imgproc/src/resize.cpp:4052: error: (-215:Assertion failed) !ssize.empty() in function 'resize'\n",
      "\n",
      "OpenCV(4.5.5) /Users/runner/work/opencv-python/opencv-python/opencv/modules/imgproc/src/resize.cpp:4052: error: (-215:Assertion failed) !ssize.empty() in function 'resize'\n",
      "\n",
      "OpenCV(4.5.5) /Users/runner/work/opencv-python/opencv-python/opencv/modules/imgproc/src/resize.cpp:4052: error: (-215:Assertion failed) !ssize.empty() in function 'resize'\n",
      "\n",
      "OpenCV(4.5.5) /Users/runner/work/opencv-python/opencv-python/opencv/modules/imgproc/src/resize.cpp:4052: error: (-215:Assertion failed) !ssize.empty() in function 'resize'\n",
      "\n",
      "OpenCV(4.5.5) /Users/runner/work/opencv-python/opencv-python/opencv/modules/imgproc/src/resize.cpp:4052: error: (-215:Assertion failed) !ssize.empty() in function 'resize'\n",
      "\n",
      "OpenCV(4.5.5) /Users/runner/work/opencv-python/opencv-python/opencv/modules/imgproc/src/resize.cpp:4052: error: (-215:Assertion failed) !ssize.empty() in function 'resize'\n",
      "\n",
      "OpenCV(4.5.5) /Users/runner/work/opencv-python/opencv-python/opencv/modules/imgproc/src/resize.cpp:4052: error: (-215:Assertion failed) !ssize.empty() in function 'resize'\n",
      "\n",
      "OpenCV(4.5.5) /Users/runner/work/opencv-python/opencv-python/opencv/modules/imgproc/src/resize.cpp:4052: error: (-215:Assertion failed) !ssize.empty() in function 'resize'\n",
      "\n",
      "OpenCV(4.5.5) /Users/runner/work/opencv-python/opencv-python/opencv/modules/imgproc/src/resize.cpp:4052: error: (-215:Assertion failed) !ssize.empty() in function 'resize'\n",
      "\n",
      "OpenCV(4.5.5) /Users/runner/work/opencv-python/opencv-python/opencv/modules/imgproc/src/resize.cpp:4052: error: (-215:Assertion failed) !ssize.empty() in function 'resize'\n",
      "\n",
      "OpenCV(4.5.5) /Users/runner/work/opencv-python/opencv-python/opencv/modules/imgproc/src/resize.cpp:4052: error: (-215:Assertion failed) !ssize.empty() in function 'resize'\n",
      "\n",
      "OpenCV(4.5.5) /Users/runner/work/opencv-python/opencv-python/opencv/modules/imgproc/src/resize.cpp:4052: error: (-215:Assertion failed) !ssize.empty() in function 'resize'\n",
      "\n",
      "OpenCV(4.5.5) /Users/runner/work/opencv-python/opencv-python/opencv/modules/imgproc/src/resize.cpp:4052: error: (-215:Assertion failed) !ssize.empty() in function 'resize'\n",
      "\n",
      "OpenCV(4.5.5) /Users/runner/work/opencv-python/opencv-python/opencv/modules/imgproc/src/resize.cpp:4052: error: (-215:Assertion failed) !ssize.empty() in function 'resize'\n",
      "\n",
      "OpenCV(4.5.5) /Users/runner/work/opencv-python/opencv-python/opencv/modules/imgproc/src/resize.cpp:4052: error: (-215:Assertion failed) !ssize.empty() in function 'resize'\n",
      "\n",
      "OpenCV(4.5.5) /Users/runner/work/opencv-python/opencv-python/opencv/modules/imgproc/src/resize.cpp:4052: error: (-215:Assertion failed) !ssize.empty() in function 'resize'\n",
      "\n",
      "OpenCV(4.5.5) /Users/runner/work/opencv-python/opencv-python/opencv/modules/imgproc/src/resize.cpp:4052: error: (-215:Assertion failed) !ssize.empty() in function 'resize'\n",
      "\n",
      "OpenCV(4.5.5) /Users/runner/work/opencv-python/opencv-python/opencv/modules/imgproc/src/resize.cpp:4052: error: (-215:Assertion failed) !ssize.empty() in function 'resize'\n",
      "\n",
      "OpenCV(4.5.5) /Users/runner/work/opencv-python/opencv-python/opencv/modules/imgproc/src/resize.cpp:4052: error: (-215:Assertion failed) !ssize.empty() in function 'resize'\n",
      "\n",
      "OpenCV(4.5.5) /Users/runner/work/opencv-python/opencv-python/opencv/modules/imgproc/src/resize.cpp:4052: error: (-215:Assertion failed) !ssize.empty() in function 'resize'\n",
      "\n",
      "OpenCV(4.5.5) /Users/runner/work/opencv-python/opencv-python/opencv/modules/imgproc/src/resize.cpp:4052: error: (-215:Assertion failed) !ssize.empty() in function 'resize'\n",
      "\n",
      "OpenCV(4.5.5) /Users/runner/work/opencv-python/opencv-python/opencv/modules/imgproc/src/resize.cpp:4052: error: (-215:Assertion failed) !ssize.empty() in function 'resize'\n",
      "\n",
      "OpenCV(4.5.5) /Users/runner/work/opencv-python/opencv-python/opencv/modules/imgproc/src/resize.cpp:4052: error: (-215:Assertion failed) !ssize.empty() in function 'resize'\n",
      "\n",
      "OpenCV(4.5.5) /Users/runner/work/opencv-python/opencv-python/opencv/modules/imgproc/src/resize.cpp:4052: error: (-215:Assertion failed) !ssize.empty() in function 'resize'\n",
      "\n",
      "OpenCV(4.5.5) /Users/runner/work/opencv-python/opencv-python/opencv/modules/imgproc/src/resize.cpp:4052: error: (-215:Assertion failed) !ssize.empty() in function 'resize'\n",
      "\n",
      "OpenCV(4.5.5) /Users/runner/work/opencv-python/opencv-python/opencv/modules/imgproc/src/resize.cpp:4052: error: (-215:Assertion failed) !ssize.empty() in function 'resize'\n",
      "\n",
      "OpenCV(4.5.5) /Users/runner/work/opencv-python/opencv-python/opencv/modules/imgproc/src/resize.cpp:4052: error: (-215:Assertion failed) !ssize.empty() in function 'resize'\n",
      "\n"
     ]
    }
   ],
   "source": [
    "test = get_training_data(test_path, IMG_SIZE)\n",
    "train = get_training_data(train_path, IMG_SIZE)\n",
    "val = get_training_data(val_path, IMG_SIZE)"
   ]
  },
  {
   "cell_type": "markdown",
   "metadata": {},
   "source": [
    "## Balance dataset\n"
   ]
  },
  {
   "cell_type": "code",
   "execution_count": null,
   "metadata": {},
   "outputs": [],
   "source": [
    "def mix_datasets(array):\n",
    "    arr_1 = array[np.where(array[:, 1] == 1)]\n",
    "    arr_0 = array[np.where(array[:, 1] == 0)]\n",
    "    l_arr_1 = len(arr_1)\n",
    "    l_arr_0 = len(arr_0)\n",
    "    diff = 0\n",
    "\n",
    "    if l_arr_0 > l_arr_1:\n",
    "        diff = l_arr_0 - l_arr_1\n",
    "        arr_0.resize((l_arr_0 - diff, arr_0.shape[1]))\n",
    "        array = np.concatenate((l_arr_0, arr_1))\n",
    "    else:\n",
    "        diff = l_arr_1 - l_arr_0\n",
    "        arr_1.resize((l_arr_1 - diff, arr_1.shape[1]))\n",
    "        array = np.concatenate((arr_0, arr_1))\n",
    "    return array"
   ]
  },
  {
   "cell_type": "markdown",
   "metadata": {},
   "source": [
    "## Scaling datasets"
   ]
  },
  {
   "cell_type": "code",
   "execution_count": null,
   "metadata": {},
   "outputs": [
    {
     "ename": "AttributeError",
     "evalue": "'tuple' object has no attribute 'shape'",
     "output_type": "error",
     "traceback": [
      "\u001b[0;31m---------------------------------------------------------------------------\u001b[0m",
      "\u001b[0;31mAttributeError\u001b[0m                            Traceback (most recent call last)",
      "\u001b[0;32m<ipython-input-69-92358cf2bacd>\u001b[0m in \u001b[0;36m<module>\u001b[0;34m\u001b[0m\n\u001b[1;32m      1\u001b[0m train_scaled = train[np.random.randint(\n\u001b[0;32m----> 2\u001b[0;31m     train.shape[0], size=int(len(train)*scale)), :]\n\u001b[0m\u001b[1;32m      3\u001b[0m test_scaled = test[np.random.randint(\n\u001b[1;32m      4\u001b[0m     test.shape[0], size=int(len(test)*scale)), :]\n",
      "\u001b[0;31mAttributeError\u001b[0m: 'tuple' object has no attribute 'shape'"
     ]
    }
   ],
   "source": [
    "train_scaled = train[np.random.randint(\n",
    "    train.shape[0], size=int(len(train)*scale)), :]\n",
    "test_scaled = test[np.random.randint(\n",
    "    test.shape[0], size=int(len(test)*scale)), :]"
   ]
  },
  {
   "cell_type": "markdown",
   "metadata": {},
   "source": [
    "## Preparing datasets"
   ]
  },
  {
   "cell_type": "code",
   "execution_count": null,
   "metadata": {},
   "outputs": [],
   "source": [
    "def prepare_dataset(dataset):\n",
    "    X_ = list()\n",
    "    y_ = list()\n",
    "    for features, labels in dataset:\n",
    "        X_.append(features)\n",
    "        y_.append(label)\n",
    "    X_ = np.array(X_)\n",
    "    X_ = X_.reshape(-1, IMG_SIZE, IMG_SIZE, 1)\n",
    "    y_ = np.array(y_)\n",
    "    return X_, y_"
   ]
  },
  {
   "cell_type": "code",
   "execution_count": null,
   "metadata": {},
   "outputs": [
    {
     "ename": "TypeError",
     "evalue": "tuple indices must be integers or slices, not tuple",
     "output_type": "error",
     "traceback": [
      "\u001b[0;31m---------------------------------------------------------------------------\u001b[0m",
      "\u001b[0;31mTypeError\u001b[0m                                 Traceback (most recent call last)",
      "\u001b[0;32m<ipython-input-71-d6449faea812>\u001b[0m in \u001b[0;36m<module>\u001b[0;34m\u001b[0m\n\u001b[0;32m----> 1\u001b[0;31m \u001b[0mx_train\u001b[0m\u001b[0;34m,\u001b[0m \u001b[0mlabel_train\u001b[0m \u001b[0;34m=\u001b[0m \u001b[0mprepare_dataset\u001b[0m\u001b[0;34m(\u001b[0m\u001b[0mmix_datasets\u001b[0m\u001b[0;34m(\u001b[0m\u001b[0mtrain\u001b[0m\u001b[0;34m)\u001b[0m\u001b[0;34m)\u001b[0m\u001b[0;34m\u001b[0m\u001b[0;34m\u001b[0m\u001b[0m\n\u001b[0m\u001b[1;32m      2\u001b[0m \u001b[0mx_test\u001b[0m\u001b[0;34m,\u001b[0m \u001b[0mlabel_test\u001b[0m \u001b[0;34m=\u001b[0m \u001b[0mprepare_dataset\u001b[0m\u001b[0;34m(\u001b[0m\u001b[0mmix_datasets\u001b[0m\u001b[0;34m(\u001b[0m\u001b[0mtest\u001b[0m\u001b[0;34m)\u001b[0m\u001b[0;34m)\u001b[0m\u001b[0;34m\u001b[0m\u001b[0;34m\u001b[0m\u001b[0m\n\u001b[1;32m      3\u001b[0m \u001b[0mx_val\u001b[0m\u001b[0;34m,\u001b[0m \u001b[0mlabel_val\u001b[0m \u001b[0;34m=\u001b[0m \u001b[0mprepare_dataset\u001b[0m\u001b[0;34m(\u001b[0m\u001b[0mmix_datasets\u001b[0m\u001b[0;34m(\u001b[0m\u001b[0mval\u001b[0m\u001b[0;34m)\u001b[0m\u001b[0;34m)\u001b[0m\u001b[0;34m\u001b[0m\u001b[0;34m\u001b[0m\u001b[0m\n",
      "\u001b[0;32m<ipython-input-68-92b708e651fd>\u001b[0m in \u001b[0;36mmix_datasets\u001b[0;34m(array)\u001b[0m\n\u001b[1;32m      1\u001b[0m \u001b[0;32mdef\u001b[0m \u001b[0mmix_datasets\u001b[0m\u001b[0;34m(\u001b[0m\u001b[0marray\u001b[0m\u001b[0;34m)\u001b[0m\u001b[0;34m:\u001b[0m\u001b[0;34m\u001b[0m\u001b[0;34m\u001b[0m\u001b[0m\n\u001b[0;32m----> 2\u001b[0;31m     \u001b[0marr_1\u001b[0m \u001b[0;34m=\u001b[0m \u001b[0marray\u001b[0m\u001b[0;34m[\u001b[0m\u001b[0mnp\u001b[0m\u001b[0;34m.\u001b[0m\u001b[0mwhere\u001b[0m\u001b[0;34m(\u001b[0m\u001b[0marray\u001b[0m\u001b[0;34m[\u001b[0m\u001b[0;34m:\u001b[0m\u001b[0;34m,\u001b[0m \u001b[0;36m1\u001b[0m\u001b[0;34m]\u001b[0m \u001b[0;34m==\u001b[0m \u001b[0;36m1\u001b[0m\u001b[0;34m)\u001b[0m\u001b[0;34m]\u001b[0m\u001b[0;34m\u001b[0m\u001b[0;34m\u001b[0m\u001b[0m\n\u001b[0m\u001b[1;32m      3\u001b[0m     \u001b[0marr_0\u001b[0m \u001b[0;34m=\u001b[0m \u001b[0marray\u001b[0m\u001b[0;34m[\u001b[0m\u001b[0mnp\u001b[0m\u001b[0;34m.\u001b[0m\u001b[0mwhere\u001b[0m\u001b[0;34m(\u001b[0m\u001b[0marray\u001b[0m\u001b[0;34m[\u001b[0m\u001b[0;34m:\u001b[0m\u001b[0;34m,\u001b[0m \u001b[0;36m1\u001b[0m\u001b[0;34m]\u001b[0m \u001b[0;34m==\u001b[0m \u001b[0;36m0\u001b[0m\u001b[0;34m)\u001b[0m\u001b[0;34m]\u001b[0m\u001b[0;34m\u001b[0m\u001b[0;34m\u001b[0m\u001b[0m\n\u001b[1;32m      4\u001b[0m     \u001b[0ml_arr_1\u001b[0m \u001b[0;34m=\u001b[0m \u001b[0mlen\u001b[0m\u001b[0;34m(\u001b[0m\u001b[0marr_1\u001b[0m\u001b[0;34m)\u001b[0m\u001b[0;34m\u001b[0m\u001b[0;34m\u001b[0m\u001b[0m\n\u001b[1;32m      5\u001b[0m     \u001b[0ml_arr_0\u001b[0m \u001b[0;34m=\u001b[0m \u001b[0mlen\u001b[0m\u001b[0;34m(\u001b[0m\u001b[0marr_0\u001b[0m\u001b[0;34m)\u001b[0m\u001b[0;34m\u001b[0m\u001b[0;34m\u001b[0m\u001b[0m\n",
      "\u001b[0;31mTypeError\u001b[0m: tuple indices must be integers or slices, not tuple"
     ]
    }
   ],
   "source": [
    "x_train, label_train = prepare_dataset(mix_datasets(train))\n",
    "x_test, label_test = prepare_dataset(mix_datasets(test))\n",
    "x_val, label_val = prepare_dataset(mix_datasets(val))"
   ]
  },
  {
   "cell_type": "code",
   "execution_count": null,
   "metadata": {},
   "outputs": [
    {
     "ename": "NameError",
     "evalue": "name 'x_train' is not defined",
     "output_type": "error",
     "traceback": [
      "\u001b[0;31m---------------------------------------------------------------------------\u001b[0m",
      "\u001b[0;31mNameError\u001b[0m                                 Traceback (most recent call last)",
      "\u001b[0;32m<ipython-input-76-2ab0156f5b50>\u001b[0m in \u001b[0;36m<module>\u001b[0;34m\u001b[0m\n\u001b[1;32m      1\u001b[0m \u001b[0;31m# Append train + test + val data in order to scale our datasets\u001b[0m\u001b[0;34m\u001b[0m\u001b[0;34m\u001b[0m\u001b[0;34m\u001b[0m\u001b[0m\n\u001b[0;32m----> 2\u001b[0;31m \u001b[0mX\u001b[0m \u001b[0;34m=\u001b[0m \u001b[0mnp\u001b[0m\u001b[0;34m.\u001b[0m\u001b[0mconcatenate\u001b[0m\u001b[0;34m(\u001b[0m\u001b[0;34m(\u001b[0m\u001b[0mx_train\u001b[0m\u001b[0;34m,\u001b[0m \u001b[0mx_test\u001b[0m\u001b[0;34m)\u001b[0m\u001b[0;34m)\u001b[0m\u001b[0;34m\u001b[0m\u001b[0;34m\u001b[0m\u001b[0m\n\u001b[0m\u001b[1;32m      3\u001b[0m \u001b[0mX\u001b[0m \u001b[0;34m=\u001b[0m \u001b[0mnp\u001b[0m\u001b[0;34m.\u001b[0m\u001b[0mconcatenate\u001b[0m\u001b[0;34m(\u001b[0m\u001b[0;34m(\u001b[0m\u001b[0mX\u001b[0m\u001b[0;34m,\u001b[0m \u001b[0mx_val\u001b[0m\u001b[0;34m)\u001b[0m\u001b[0;34m)\u001b[0m\u001b[0;34m\u001b[0m\u001b[0;34m\u001b[0m\u001b[0m\n\u001b[1;32m      4\u001b[0m \u001b[0mY\u001b[0m \u001b[0;34m=\u001b[0m \u001b[0mnp\u001b[0m\u001b[0;34m.\u001b[0m\u001b[0mconcatenate\u001b[0m\u001b[0;34m(\u001b[0m\u001b[0;34m(\u001b[0m\u001b[0mlabel_train\u001b[0m\u001b[0;34m,\u001b[0m \u001b[0mlabel_test\u001b[0m\u001b[0;34m)\u001b[0m\u001b[0;34m)\u001b[0m\u001b[0;34m\u001b[0m\u001b[0;34m\u001b[0m\u001b[0m\n\u001b[1;32m      5\u001b[0m \u001b[0mY\u001b[0m \u001b[0;34m=\u001b[0m \u001b[0mnp\u001b[0m\u001b[0;34m.\u001b[0m\u001b[0mconcatenate\u001b[0m\u001b[0;34m(\u001b[0m\u001b[0;34m(\u001b[0m\u001b[0mY\u001b[0m\u001b[0;34m,\u001b[0m \u001b[0mlabel_val\u001b[0m\u001b[0;34m)\u001b[0m\u001b[0;34m)\u001b[0m\u001b[0;34m\u001b[0m\u001b[0;34m\u001b[0m\u001b[0m\n",
      "\u001b[0;31mNameError\u001b[0m: name 'x_train' is not defined"
     ]
    }
   ],
   "source": [
    "# Append train + test + val data in order to scale our datasets\n",
    "X = np.concatenate((x_train, x_test))\n",
    "X = np.concatenate((X, x_val))\n",
    "Y = np.concatenate((label_train, label_test))\n",
    "Y = np.concatenate((Y, label_val))"
   ]
  },
  {
   "cell_type": "code",
   "execution_count": null,
   "metadata": {},
   "outputs": [
    {
     "ename": "NameError",
     "evalue": "name 'X' is not defined",
     "output_type": "error",
     "traceback": [
      "\u001b[0;31m---------------------------------------------------------------------------\u001b[0m",
      "\u001b[0;31mNameError\u001b[0m                                 Traceback (most recent call last)",
      "\u001b[0;32m<ipython-input-73-b6c5696df2cf>\u001b[0m in \u001b[0;36m<module>\u001b[0;34m\u001b[0m\n\u001b[1;32m      1\u001b[0m \u001b[0;31m# Hold-Out cross validation\u001b[0m\u001b[0;34m\u001b[0m\u001b[0;34m\u001b[0m\u001b[0;34m\u001b[0m\u001b[0m\n\u001b[1;32m      2\u001b[0m \u001b[0;31m# test_size: what proportion of original data is used for test set\u001b[0m\u001b[0;34m\u001b[0m\u001b[0;34m\u001b[0m\u001b[0;34m\u001b[0m\u001b[0m\n\u001b[0;32m----> 3\u001b[0;31m \u001b[0mx_train\u001b[0m\u001b[0;34m,\u001b[0m \u001b[0mx_test\u001b[0m\u001b[0;34m,\u001b[0m \u001b[0mlabel_train\u001b[0m\u001b[0;34m,\u001b[0m \u001b[0mlabel_test\u001b[0m \u001b[0;34m=\u001b[0m \u001b[0mtrain_test_split\u001b[0m\u001b[0;34m(\u001b[0m \u001b[0mX\u001b[0m\u001b[0;34m,\u001b[0m \u001b[0mY\u001b[0m\u001b[0;34m,\u001b[0m \u001b[0mtest_size\u001b[0m\u001b[0;34m=\u001b[0m\u001b[0;36m0.30\u001b[0m\u001b[0;34m)\u001b[0m\u001b[0;34m\u001b[0m\u001b[0;34m\u001b[0m\u001b[0m\n\u001b[0m",
      "\u001b[0;31mNameError\u001b[0m: name 'X' is not defined"
     ]
    }
   ],
   "source": [
    "# Hold-Out cross validation\n",
    "# test_size: what proportion of original data is used for test set \n",
    "x_train, x_test, label_train, label_test = train_test_split( X, Y, test_size=0.30)"
   ]
  },
  {
   "cell_type": "markdown",
   "metadata": {},
   "source": [
    "Normalize Data"
   ]
  },
  {
   "cell_type": "code",
   "execution_count": null,
   "metadata": {},
   "outputs": [
    {
     "ename": "NameError",
     "evalue": "name 'x_train' is not defined",
     "output_type": "error",
     "traceback": [
      "\u001b[0;31m---------------------------------------------------------------------------\u001b[0m",
      "\u001b[0;31mNameError\u001b[0m                                 Traceback (most recent call last)",
      "\u001b[0;32m<ipython-input-74-7038477808db>\u001b[0m in \u001b[0;36m<module>\u001b[0;34m\u001b[0m\n\u001b[0;32m----> 1\u001b[0;31m \u001b[0mxmax\u001b[0m \u001b[0;34m=\u001b[0m \u001b[0mnp\u001b[0m\u001b[0;34m.\u001b[0m\u001b[0marray\u001b[0m\u001b[0;34m(\u001b[0m\u001b[0mx_train\u001b[0m\u001b[0;34m)\u001b[0m\u001b[0;34m.\u001b[0m\u001b[0mmax\u001b[0m\u001b[0;34m(\u001b[0m\u001b[0;34m)\u001b[0m\u001b[0;34m\u001b[0m\u001b[0;34m\u001b[0m\u001b[0m\n\u001b[0m\u001b[1;32m      2\u001b[0m \u001b[0mx_train\u001b[0m \u001b[0;34m=\u001b[0m \u001b[0mx_train\u001b[0m \u001b[0;34m/\u001b[0m \u001b[0mxmax\u001b[0m\u001b[0;34m\u001b[0m\u001b[0;34m\u001b[0m\u001b[0m\n\u001b[1;32m      3\u001b[0m \u001b[0mxmax\u001b[0m \u001b[0;34m=\u001b[0m \u001b[0mnp\u001b[0m\u001b[0;34m.\u001b[0m\u001b[0marray\u001b[0m\u001b[0;34m(\u001b[0m\u001b[0mx_test\u001b[0m\u001b[0;34m)\u001b[0m\u001b[0;34m.\u001b[0m\u001b[0mmax\u001b[0m\u001b[0;34m(\u001b[0m\u001b[0;34m)\u001b[0m\u001b[0;34m\u001b[0m\u001b[0;34m\u001b[0m\u001b[0m\n\u001b[1;32m      4\u001b[0m \u001b[0mx_test\u001b[0m \u001b[0;34m=\u001b[0m \u001b[0mx_test\u001b[0m \u001b[0;34m/\u001b[0m \u001b[0mxmax\u001b[0m\u001b[0;34m\u001b[0m\u001b[0;34m\u001b[0m\u001b[0m\n",
      "\u001b[0;31mNameError\u001b[0m: name 'x_train' is not defined"
     ]
    }
   ],
   "source": [
    "xmax = np.array(x_train).max()\n",
    "x_train = x_train / xmax\n",
    "xmax = np.array(x_test).max()\n",
    "x_test = x_test / xmax"
   ]
  },
  {
   "cell_type": "markdown",
   "metadata": {},
   "source": [
    "### 2. Learning of model <a id=\"model\"></a>"
   ]
  },
  {
   "cell_type": "code",
   "execution_count": null,
   "metadata": {},
   "outputs": [],
   "source": [
    "from tensorflow.keras.models import Sequential\n",
    "from tensorflow.keras.layers import Conv2D\n",
    "from tensorflow.keras.layers import MaxPool2D\n",
    "from tensorflow.keras.layers import Flatten\n",
    "from tensorflow.keras.layers import Dropout\n",
    "from tensorflow.keras.layers import Dense\n",
    "from tensorflow.keras import layers, models\n",
    "\n",
    "model = models.Sequential()\n",
    "model.add(layers.Conv2D(32, (3, 3), activation='relu',\n",
    "          input_shape=(IMG_SIZE, IMG_SIZE, 1)))\n",
    "model.add(layers.MaxPooling2D((2, 2)))\n",
    "\n",
    "model.add(layers.Conv2D(64, (3, 3), activation='relu'))\n",
    "model.add(layers.MaxPooling2D((2, 2)))\n",
    "\n",
    "model.add(layers.Conv2D(64, (3, 3), activation='relu'))\n",
    "model.add(layers.MaxPooling2D((2, 2)))\n",
    "\n",
    "model.add(layers.Conv2D(128, (3, 3), activation='relu'))\n",
    "model.add(layers.MaxPooling2D((2, 2)))\n",
    "\n",
    "model.add(layers.Flatten())\n",
    "model.add(layers.Dense(120))\n",
    "model.add(layers.Dense(2, activation='softmax'))"
   ]
  },
  {
   "cell_type": "markdown",
   "metadata": {},
   "source": [
    "## Init training's Callback"
   ]
  },
  {
   "cell_type": "code",
   "execution_count": null,
   "metadata": {},
   "outputs": [],
   "source": [
    "def callbacks():\n",
    "    callbacks = [\n",
    "        tf.keras.callbacks.ModelCheckpoint(\n",
    "            filepath='lstmchar256256128test.h5',\n",
    "            monitor='loss',\n",
    "            save_best_only=True\n",
    "        ),\n",
    "        tf.keras.callbacks.EarlyStopping(\n",
    "            monitor='loss',\n",
    "            min_delta=0,\n",
    "            patience=4,\n",
    "            mode='auto',\n",
    "            baseline=None,\n",
    "        )\n",
    "    ]\n",
    "    return callbacks"
   ]
  },
  {
   "cell_type": "code",
   "execution_count": null,
   "metadata": {},
   "outputs": [
    {
     "name": "stdout",
     "output_type": "stream",
     "text": [
      "Model: \"sequential\"\n",
      "_________________________________________________________________\n",
      " Layer (type)                Output Shape              Param #   \n",
      "=================================================================\n",
      " conv2d (Conv2D)             (None, 98, 98, 32)        320       \n",
      "                                                                 \n",
      " max_pooling2d (MaxPooling2D  (None, 49, 49, 32)       0         \n",
      " )                                                               \n",
      "                                                                 \n",
      " conv2d_1 (Conv2D)           (None, 47, 47, 64)        18496     \n",
      "                                                                 \n",
      " max_pooling2d_1 (MaxPooling  (None, 23, 23, 64)       0         \n",
      " 2D)                                                             \n",
      "                                                                 \n",
      " conv2d_2 (Conv2D)           (None, 21, 21, 64)        36928     \n",
      "                                                                 \n",
      " max_pooling2d_2 (MaxPooling  (None, 10, 10, 64)       0         \n",
      " 2D)                                                             \n",
      "                                                                 \n",
      " conv2d_3 (Conv2D)           (None, 8, 8, 128)         73856     \n",
      "                                                                 \n",
      " max_pooling2d_3 (MaxPooling  (None, 4, 4, 128)        0         \n",
      " 2D)                                                             \n",
      "                                                                 \n",
      " flatten (Flatten)           (None, 2048)              0         \n",
      "                                                                 \n",
      " dense (Dense)               (None, 120)               245880    \n",
      "                                                                 \n",
      " dense_1 (Dense)             (None, 2)                 242       \n",
      "                                                                 \n",
      "=================================================================\n",
      "Total params: 375,722\n",
      "Trainable params: 375,722\n",
      "Non-trainable params: 0\n",
      "_________________________________________________________________\n"
     ]
    }
   ],
   "source": [
    "model.summary()"
   ]
  },
  {
   "cell_type": "code",
   "execution_count": null,
   "metadata": {},
   "outputs": [
    {
     "name": "stdout",
     "output_type": "stream",
     "text": [
      "[0 1 0 1 1 0 1 1 0 1 1 0 0 0 0 1 1 0 0 0 0 1 0 0 1 1 0 0 1 1 0 1 1 1 1 1 0\n",
      " 0 0 1 1 0 1 0 1 0 1 1 1 1 1 1 0 0]\n"
     ]
    }
   ],
   "source": [
    "y_test = np.array(label_test)\n",
    "y_train = np.array(label_train)"
   ]
  },
  {
   "cell_type": "code",
   "execution_count": null,
   "metadata": {},
   "outputs": [
    {
     "name": "stdout",
     "output_type": "stream",
     "text": [
      "Epoch 1/20\n"
     ]
    },
    {
     "name": "stderr",
     "output_type": "stream",
     "text": [
      "/Users/guixax/opt/anaconda3/lib/python3.8/site-packages/tensorflow/python/util/dispatch.py:1082: UserWarning: \"`sparse_categorical_crossentropy` received `from_logits=True`, but the `output` argument was produced by a sigmoid or softmax activation and thus does not represent logits. Was this intended?\"\n",
      "  return dispatch_target(*args, **kwargs)\n"
     ]
    },
    {
     "name": "stdout",
     "output_type": "stream",
     "text": [
      "4/4 [==============================] - 2s 273ms/step - loss: 0.7491 - accuracy: 0.5079 - val_loss: 0.6858 - val_accuracy: 0.5370\n",
      "Epoch 2/20\n",
      "4/4 [==============================] - 1s 193ms/step - loss: 0.7041 - accuracy: 0.4841 - val_loss: 0.6836 - val_accuracy: 0.5370\n",
      "Epoch 3/20\n",
      "4/4 [==============================] - 1s 194ms/step - loss: 0.6844 - accuracy: 0.5794 - val_loss: 0.6878 - val_accuracy: 0.5185\n",
      "Epoch 4/20\n",
      "4/4 [==============================] - 1s 197ms/step - loss: 0.6782 - accuracy: 0.5714 - val_loss: 0.6729 - val_accuracy: 0.6296\n",
      "Epoch 5/20\n",
      "4/4 [==============================] - 1s 195ms/step - loss: 0.6652 - accuracy: 0.5397 - val_loss: 0.6545 - val_accuracy: 0.6111\n",
      "Epoch 6/20\n",
      "4/4 [==============================] - 1s 244ms/step - loss: 0.6109 - accuracy: 0.7063 - val_loss: 0.6168 - val_accuracy: 0.6667\n",
      "Epoch 7/20\n",
      "4/4 [==============================] - 1s 233ms/step - loss: 0.5822 - accuracy: 0.6587 - val_loss: 0.5982 - val_accuracy: 0.5926\n",
      "Epoch 8/20\n",
      "4/4 [==============================] - 1s 276ms/step - loss: 0.5726 - accuracy: 0.6667 - val_loss: 0.5997 - val_accuracy: 0.6667\n",
      "Epoch 9/20\n",
      "4/4 [==============================] - 1s 244ms/step - loss: 0.5089 - accuracy: 0.7381 - val_loss: 0.5459 - val_accuracy: 0.6667\n",
      "Epoch 10/20\n",
      "4/4 [==============================] - 1s 256ms/step - loss: 0.4655 - accuracy: 0.8333 - val_loss: 0.5309 - val_accuracy: 0.7037\n",
      "Epoch 11/20\n",
      "4/4 [==============================] - 1s 218ms/step - loss: 0.4069 - accuracy: 0.8333 - val_loss: 0.5651 - val_accuracy: 0.7037\n",
      "Epoch 12/20\n",
      "4/4 [==============================] - 1s 270ms/step - loss: 0.3944 - accuracy: 0.8095 - val_loss: 0.5615 - val_accuracy: 0.7222\n",
      "Epoch 13/20\n",
      "4/4 [==============================] - 1s 213ms/step - loss: 0.3772 - accuracy: 0.8571 - val_loss: 0.5922 - val_accuracy: 0.7037\n",
      "Epoch 14/20\n",
      "4/4 [==============================] - 1s 220ms/step - loss: 0.3607 - accuracy: 0.8333 - val_loss: 0.5115 - val_accuracy: 0.7037\n",
      "Epoch 15/20\n",
      "4/4 [==============================] - 1s 221ms/step - loss: 0.3269 - accuracy: 0.8651 - val_loss: 0.5578 - val_accuracy: 0.7222\n",
      "Epoch 16/20\n",
      "4/4 [==============================] - 1s 196ms/step - loss: 0.2853 - accuracy: 0.8810 - val_loss: 0.4869 - val_accuracy: 0.8148\n",
      "Epoch 17/20\n",
      "4/4 [==============================] - 1s 195ms/step - loss: 0.2622 - accuracy: 0.9206 - val_loss: 0.5373 - val_accuracy: 0.7593\n",
      "Epoch 18/20\n",
      "4/4 [==============================] - 1s 190ms/step - loss: 0.2598 - accuracy: 0.8889 - val_loss: 0.4573 - val_accuracy: 0.7407\n",
      "Epoch 19/20\n",
      "4/4 [==============================] - 1s 201ms/step - loss: 0.2063 - accuracy: 0.9444 - val_loss: 0.4215 - val_accuracy: 0.7778\n",
      "Epoch 20/20\n",
      "4/4 [==============================] - 1s 196ms/step - loss: 0.1826 - accuracy: 0.9286 - val_loss: 0.3592 - val_accuracy: 0.8333\n",
      "17.945616960525513 s\n"
     ]
    }
   ],
   "source": [
    "model.compile(optimizer='adam',\n",
    "              loss=tf.keras.losses.SparseCategoricalCrossentropy(\n",
    "                  from_logits=True),\n",
    "              metrics=['accuracy'])\n",
    "\n",
    "time1 = time.time()\n",
    "history = model.fit(x_train, y_train, epochs=20, validation_data=(\n",
    "    x_test, y_test), callbacks=callbacks())\n",
    "\n",
    "# Print duration time\n",
    "duration_time = time.time() - time1\n",
    "if duration_time < 60:\n",
    "    print(\"{} s\".format(duration_time))\n",
    "else:\n",
    "    print(\"{} min\".format(duration_time/60))"
   ]
  },
  {
   "cell_type": "markdown",
   "metadata": {},
   "source": [
    "# 3. Displaying metrics <a id=\"metric\"></a>"
   ]
  },
  {
   "cell_type": "markdown",
   "metadata": {},
   "source": [
    "## loss + accuracy graph"
   ]
  },
  {
   "cell_type": "code",
   "execution_count": null,
   "metadata": {},
   "outputs": [
    {
     "data": {
      "text/plain": [
       "<matplotlib.legend.Legend at 0x7f939d3c1af0>"
      ]
     },
     "execution_count": 21,
     "metadata": {},
     "output_type": "execute_result"
    },
    {
     "data": {
      "image/png": "[encoded data removed]",
      "text/plain": [
       "<Figure size 432x288 with 1 Axes>"
      ]
     },
     "metadata": {
      "needs_background": "light"
     },
     "output_type": "display_data"
    }
   ],
   "source": [
    "import matplotlib.pyplot as plt\n",
    "\n",
    "history_loss = history.history[\"loss\"]\n",
    "history_acc = history.history[\"accuracy\"]\n",
    "\n",
    "plt.plot(history_loss, label=\"loss\")\n",
    "plt.plot(history_acc, label=\"acc\")\n",
    "plt.title(\"Training history\")\n",
    "plt.legend()"
   ]
  },
  {
   "cell_type": "markdown",
   "metadata": {},
   "source": [
    "## Prediction"
   ]
  },
  {
   "cell_type": "markdown",
   "metadata": {},
   "source": [
    "### Cunsion Mactix"
   ]
  },
  {
   "cell_type": "code",
   "execution_count": null,
   "metadata": {},
   "outputs": [
    {
     "name": "stdout",
     "output_type": "stream",
     "text": [
      "Test loss     : 0.3592\n",
      "Test accuracy : 0.8333\n"
     ]
    }
   ],
   "source": [
    "score = model.evaluate(x_test, y_test, verbose=0)\n",
    "\n",
    "print(f'Test loss     : {score[0]:4.4f}')\n",
    "print(f'Test accuracy : {score[1]:4.4f}')\n",
    "# print(classification_report(y_test, y_pred))"
   ]
  },
  {
   "cell_type": "code",
   "execution_count": null,
   "metadata": {},
   "outputs": [
    {
     "name": "stdout",
     "output_type": "stream",
     "text": [
      "[[9.0939426e-01 9.0605751e-02]\n",
      " [2.0893137e-01 7.9106861e-01]\n",
      " [9.8701805e-01 1.2981985e-02]\n",
      " [5.3633615e-02 9.4636643e-01]\n",
      " [4.2512032e-01 5.7487971e-01]\n",
      " [7.2365820e-02 9.2763418e-01]\n",
      " [1.9394249e-02 9.8060578e-01]\n",
      " [1.8463703e-03 9.9815363e-01]\n",
      " [9.1651011e-01 8.3489873e-02]\n",
      " [4.3922540e-05 9.9995613e-01]\n",
      " [2.8985959e-02 9.7101408e-01]\n",
      " [3.8457128e-01 6.1542875e-01]\n",
      " [9.1497213e-01 8.5027866e-02]\n",
      " [2.0656112e-01 7.9343891e-01]\n",
      " [3.8457128e-01 6.1542875e-01]\n",
      " [4.4608051e-03 9.9553913e-01]\n",
      " [2.1976317e-01 7.8023678e-01]\n",
      " [7.1447468e-01 2.8552529e-01]\n",
      " [8.9349270e-01 1.0650731e-01]\n",
      " [7.3889238e-01 2.6110765e-01]\n",
      " [2.0656112e-01 7.9343891e-01]\n",
      " [2.1597970e-04 9.9978405e-01]\n",
      " [9.9828571e-01 1.7142751e-03]\n",
      " [5.8018911e-01 4.1981089e-01]\n",
      " [1.6064493e-01 8.3935511e-01]\n",
      " [8.8333040e-01 1.1666957e-01]\n",
      " [3.2430708e-01 6.7569292e-01]\n",
      " [2.7882639e-01 7.2117364e-01]\n",
      " [3.0925011e-04 9.9969077e-01]\n",
      " [2.7805283e-03 9.9721944e-01]\n",
      " [9.9948919e-01 5.1079271e-04]\n",
      " [2.0778986e-02 9.7922099e-01]\n",
      " [2.8985959e-02 9.7101408e-01]\n",
      " [3.4532171e-02 9.6546781e-01]\n",
      " [4.6336952e-01 5.3663045e-01]\n",
      " [7.7272427e-01 2.2727573e-01]\n",
      " [9.2264766e-01 7.7352345e-02]\n",
      " [9.9610656e-01 3.8934690e-03]\n",
      " [9.2576689e-01 7.4233159e-02]\n",
      " [1.1250618e-01 8.8749385e-01]\n",
      " [9.9553794e-02 9.0044618e-01]\n",
      " [9.7371823e-01 2.6281748e-02]\n",
      " [1.8005078e-01 8.1994927e-01]\n",
      " [8.1745183e-01 1.8254817e-01]\n",
      " [4.5535341e-03 9.9544638e-01]\n",
      " [9.9673480e-01 3.2652186e-03]\n",
      " [1.5648588e-08 1.0000000e+00]\n",
      " [4.1270795e-07 9.9999964e-01]\n",
      " [4.5877587e-02 9.5412242e-01]\n",
      " [1.3561090e-10 1.0000000e+00]\n",
      " [4.6336952e-01 5.3663045e-01]\n",
      " [1.6999272e-01 8.3000726e-01]\n",
      " [8.5398149e-01 1.4601849e-01]\n",
      " [8.0202091e-01 1.9797908e-01]]\n"
     ]
    }
   ],
   "source": [
    "pred = model.predict(x_test)\n",
    "print(pred)"
   ]
  },
  {
   "cell_type": "code",
   "execution_count": null,
   "metadata": {},
   "outputs": [
    {
     "ename": "ValueError",
     "evalue": "Number of classes, 2, does not match size of target_names, 10. Try specifying the labels parameter",
     "output_type": "error",
     "traceback": [
      "\u001b[0;31m---------------------------------------------------------------------------\u001b[0m",
      "\u001b[0;31mValueError\u001b[0m                                Traceback (most recent call last)",
      "\u001b[0;32m<ipython-input-28-1cf7d6fa8a29>\u001b[0m in \u001b[0;36m<module>\u001b[0;34m\u001b[0m\n\u001b[1;32m      1\u001b[0m \u001b[0mpredicted_classes\u001b[0m \u001b[0;34m=\u001b[0m \u001b[0mnp\u001b[0m\u001b[0;34m.\u001b[0m\u001b[0margmax\u001b[0m\u001b[0;34m(\u001b[0m\u001b[0mpred\u001b[0m\u001b[0;34m,\u001b[0m \u001b[0maxis\u001b[0m\u001b[0;34m=\u001b[0m\u001b[0;36m1\u001b[0m\u001b[0;34m)\u001b[0m\u001b[0;34m\u001b[0m\u001b[0;34m\u001b[0m\u001b[0m\n\u001b[0;32m----> 2\u001b[0;31m \u001b[0mreport\u001b[0m \u001b[0;34m=\u001b[0m \u001b[0mclassification_report\u001b[0m\u001b[0;34m(\u001b[0m\u001b[0mpredicted_classes\u001b[0m\u001b[0;34m,\u001b[0m \u001b[0my_test\u001b[0m\u001b[0;34m,\u001b[0m \u001b[0mtarget_names\u001b[0m\u001b[0;34m=\u001b[0m\u001b[0mlabels\u001b[0m\u001b[0;34m)\u001b[0m\u001b[0;34m\u001b[0m\u001b[0;34m\u001b[0m\u001b[0m\n\u001b[0m\u001b[1;32m      3\u001b[0m \u001b[0mprint\u001b[0m\u001b[0;34m(\u001b[0m\u001b[0mreport\u001b[0m\u001b[0;34m)\u001b[0m\u001b[0;34m\u001b[0m\u001b[0;34m\u001b[0m\u001b[0m\n",
      "\u001b[0;32m~/opt/anaconda3/lib/python3.8/site-packages/sklearn/utils/validation.py\u001b[0m in \u001b[0;36minner_f\u001b[0;34m(*args, **kwargs)\u001b[0m\n\u001b[1;32m     61\u001b[0m             \u001b[0mextra_args\u001b[0m \u001b[0;34m=\u001b[0m \u001b[0mlen\u001b[0m\u001b[0;34m(\u001b[0m\u001b[0margs\u001b[0m\u001b[0;34m)\u001b[0m \u001b[0;34m-\u001b[0m \u001b[0mlen\u001b[0m\u001b[0;34m(\u001b[0m\u001b[0mall_args\u001b[0m\u001b[0;34m)\u001b[0m\u001b[0;34m\u001b[0m\u001b[0;34m\u001b[0m\u001b[0m\n\u001b[1;32m     62\u001b[0m             \u001b[0;32mif\u001b[0m \u001b[0mextra_args\u001b[0m \u001b[0;34m<=\u001b[0m \u001b[0;36m0\u001b[0m\u001b[0;34m:\u001b[0m\u001b[0;34m\u001b[0m\u001b[0;34m\u001b[0m\u001b[0m\n\u001b[0;32m---> 63\u001b[0;31m                 \u001b[0;32mreturn\u001b[0m \u001b[0mf\u001b[0m\u001b[0;34m(\u001b[0m\u001b[0;34m*\u001b[0m\u001b[0margs\u001b[0m\u001b[0;34m,\u001b[0m \u001b[0;34m**\u001b[0m\u001b[0mkwargs\u001b[0m\u001b[0;34m)\u001b[0m\u001b[0;34m\u001b[0m\u001b[0;34m\u001b[0m\u001b[0m\n\u001b[0m\u001b[1;32m     64\u001b[0m \u001b[0;34m\u001b[0m\u001b[0m\n\u001b[1;32m     65\u001b[0m             \u001b[0;31m# extra_args > 0\u001b[0m\u001b[0;34m\u001b[0m\u001b[0;34m\u001b[0m\u001b[0;34m\u001b[0m\u001b[0m\n",
      "\u001b[0;32m~/opt/anaconda3/lib/python3.8/site-packages/sklearn/metrics/_classification.py\u001b[0m in \u001b[0;36mclassification_report\u001b[0;34m(y_true, y_pred, labels, target_names, sample_weight, digits, output_dict, zero_division)\u001b[0m\n\u001b[1;32m   1985\u001b[0m             )\n\u001b[1;32m   1986\u001b[0m         \u001b[0;32melse\u001b[0m\u001b[0;34m:\u001b[0m\u001b[0;34m\u001b[0m\u001b[0;34m\u001b[0m\u001b[0m\n\u001b[0;32m-> 1987\u001b[0;31m             raise ValueError(\n\u001b[0m\u001b[1;32m   1988\u001b[0m                 \u001b[0;34m\"Number of classes, {0}, does not match size of \"\u001b[0m\u001b[0;34m\u001b[0m\u001b[0;34m\u001b[0m\u001b[0m\n\u001b[1;32m   1989\u001b[0m                 \u001b[0;34m\"target_names, {1}. Try specifying the labels \"\u001b[0m\u001b[0;34m\u001b[0m\u001b[0;34m\u001b[0m\u001b[0m\n",
      "\u001b[0;31mValueError\u001b[0m: Number of classes, 2, does not match size of target_names, 10. Try specifying the labels parameter"
     ]
    }
   ],
   "source": [
    "predicted_classes = np.argmax(pred, axis=1)\n",
    "report = classification_report(predicted_classes, y_test, target_names=labels)\n",
    "print(report)\n"
   ]
  },
  {
   "cell_type": "markdown",
   "metadata": {},
   "source": [
    "# conclusion <a id=\"conclusion\"></a>"
   ]
  },
  {
   "cell_type": "markdown",
   "metadata": {},
   "source": [
    "Based on the confusion matrix, we obtain an accuracy of 82% for the guillemot pigeon with a few proportion of false negatives , as well as an accuracy of 84% for the Red headed woodpecker with a small amount of false positive.\n",
    "\n",
    "The cause of this discrepancy in accuracy can be due to several things such as an uneven distribution of our starting dataset with one class more present than the other."
   ]
  },
  {
   "cell_type": "code",
   "execution_count": null,
   "metadata": {},
   "outputs": [
    {
     "name": "stdout",
     "output_type": "stream",
     "text": [
      "INFO:tensorflow:Assets written to: ram://e9bca83f-ede9-425d-8f43-064fb661a682/assets\n"
     ]
    }
   ],
   "source": [
    "pickle.dump(model, open('model.sav', 'wb'))\n"
   ]
  }
 ],
 "metadata": {
  "kernelspec": {
   "display_name": "Python 3.8.8 ('base')",
   "language": "python",
   "name": "python3"
  },
  "language_info": {
   "codemirror_mode": {
    "name": "ipython",
    "version": 3
   },
   "file_extension": ".py",
   "mimetype": "text/x-python",
   "name": "python",
   "nbconvert_exporter": "python",
   "pygments_lexer": "ipython3",
   "version": "3.8.8"
  },
  "vscode": {
   "interpreter": {
    "hash": "144f974373c9fda24aaee5df054dd1f07b7d95d6200df4c599d8b429227f40a3"
   }
  }
 },
 "nbformat": 4,
 "nbformat_minor": 4
}
